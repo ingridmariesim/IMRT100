{
 "cells": [
  {
   "cell_type": "markdown",
   "metadata": {},
   "source": [
    "# Bli kjent med Arduino\n",
    "\n",
    "Dere skal lage en rapport for oppgavene som utføres i dette heftet. I rapporten skal alle oppgavene dokumenteres med tekst (og eventuelt bilder) og resultatene dere får. Dere skal også svare på alle spørsmålene til hver oppgave. \r\n",
    "Rapporten blir delt inn to hoveddeler, der del 1 består av oppgaver med Arduino, mens del 2 består av oppgaver knyttet til det å bygge en GNSS logger.\r\n"
   ]
  }
 ],
 "metadata": {
  "kernelspec": {
   "display_name": "Python 3 (ipykernel)",
   "language": "python",
   "name": "python3"
  },
  "language_info": {
   "codemirror_mode": {
    "name": "ipython",
    "version": 3
   },
   "file_extension": ".py",
   "mimetype": "text/x-python",
   "name": "python",
   "nbconvert_exporter": "python",
   "pygments_lexer": "ipython3",
   "version": "3.11.5"
  },
  "widgets": {
   "application/vnd.jupyter.widget-state+json": {
    "state": {},
    "version_major": 2,
    "version_minor": 0
   }
  }
 },
 "nbformat": 4,
 "nbformat_minor": 4
}