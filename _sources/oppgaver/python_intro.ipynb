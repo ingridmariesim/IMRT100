{
 "cells": [
  {
   "cell_type": "markdown",
   "metadata": {},
   "source": [
    "(python_intro)=\n",
    "# Introduksjon til Python\n",
    "Python er et at de mest anvendelige programmeringsspråkene for læring og utvkling, og støtter et stort utviklingsmiljø for pakker for alt fra ststitstikk til maskinlæring. Dere kommer til bruke Python mye gjennom studiet, så dette er en god anledning til å friske opp kunnskapene fra videregående skole og se hvordan dette programmeringsspråket kan brukes med enkle eksempler fra geomatikk.\n",
    "\n",
    "![](../bilder/python.jpg)\n",
    "\n",
    "1. **Lesbarhet:**\n",
    "   - Python legger vekt på ren og kortfattet kode, noe som gjør det enkelt for nybegynnere å lære og forstå.\n",
    "   - Bruk av innrykk (whitespace) for kodeblokker forbedrer lesbarheten.\n",
    "\n",
    "2. **Allsidighet:**\n",
    "   - Python kan brukes til en rekke oppgaver, fra enkle skript til kompleks dataanalyse.\n",
    "   - Det har omfattende biblioteker og rammeverk for ulike formål.\n",
    "\n",
    "3. **Geospatiale applikasjoner:**\n",
    "   - Innenfor geomatikk brukes Python ofte til romlig datahåndtering, analyse og visualisering.\n",
    "   - Biblioteker som `geopandas`, `shapely` og `folium` gir kraftige verktøy for arbeid med geospatiale data.\n",
    "\n",
    "4. **Eksempler på bruk:**\n",
    "   - **Datahåndtering:** Les og manipuler shapefiler, GeoJSON og andre romlige formater.\n",
    "   - **Geospatial analyse:** Beregn avstander, kryssinger og utfør romlige spørringer.\n",
    "   - **Visualisering:** Lag kart, spredningsplott og interaktive webkart.\n",
    "   - **Automatisering:** Skriv skript for å automatisere gjentakende oppgaver.\n",
    "\n",
    "5. **Kom i gang:**\n",
    "   - Installer Python fra [den offisielle nettsiden](https://www.python.org/downloads/).\n",
    "   - Bruk et integrert utviklingsmiljø (IDE) som PyCharm, Visual Studio Code eller Jupyter Notebook.\n",
    "   - Start med grunnleggende Python-syntaks, datatyper og kontrollstrukturer.\n",
    "\n",
    "For mer informasjon om Python, kan du også besøke [Python.org](https://www.python.org/), som er det offisielle nettstedet for Python-programmeringsspråket.\n"
   ]
  },
  {
   "cell_type": "markdown",
   "metadata": {},
   "source": [
    "## Landmåling"
   ]
  },
  {
   "cell_type": "code",
   "execution_count": null,
   "metadata": {},
   "outputs": [],
   "source": [
    "# Import\n",
    "from numpy import pi\n",
    "\n",
    "# Konverter fra grader til radianer\n",
    "def deg2rad(deg):\n",
    "    return deg*(pi/180)\n",
    "\n",
    "# Test funksjonen\n",
    "deg = 90\n",
    "print(f\"{deg:5.3f} grader tilsvarer {deg2rad(deg):6.5f} radianer\")"
   ]
  },
  {
   "cell_type": "markdown",
   "metadata": {},
   "source": [
    "## Geografiske informasjonssystemer (GIS)"
   ]
  },
  {
   "cell_type": "code",
   "execution_count": null,
   "metadata": {},
   "outputs": [],
   "source": [
    "import geopandas as gpd\n",
    "import matplotlib.pyplot as plt\n",
    "\n",
    "# Les inn et shapefile med geografiske data (f.eks. veier, bygninger, etc.)\n",
    "shapefile_path = \"stedsnavn.shp\"\n",
    "gdf = gpd.read_file(shapefile_path)\n",
    "\n",
    "# Utfør en bufferoperasjon for å opprette en buffer rundt stedsnavnene\n",
    "buffered_gdf = gdf.buffer(100)  # Buffer på 100 meter\n",
    "\n",
    "# Plot de originale stedsnavnene og de bufferede områdene\n",
    "fig, ax = plt.subplots(figsize=(8, 8))\n",
    "gdf.plot(ax=ax, color=\"blue\", label=\"Stedsnavn\")\n",
    "buffered_gdf.plot(ax=ax, color=\"red\", alpha=0.5, label=\"Bufferområde\")\n",
    "\n",
    "plt.title(\"Eksempel på bufferoperasjon i geomatikk\")\n",
    "plt.xlabel(\"Øst-koordinat\")\n",
    "plt.ylabel(\"Nord-koordinat\")\n",
    "plt.legend()\n",
    "plt.show()"
   ]
  },
  {
   "cell_type": "code",
   "execution_count": null,
   "metadata": {},
   "outputs": [],
   "source": [
    "import folium\n",
    "import geopandas as gpd\n",
    "\n",
    "# Les inn et shapefile med geografiske data (f.eks. innsjøer, elver, etc.)\n",
    "shapefile_path = \"innsjoer.shp\"\n",
    "gdf = gpd.read_file(shapefile_path)\n",
    "\n",
    "# Opprett et kart med sentrum på et gitt koordinatpunkt\n",
    "mymap = folium.Map(location=[60.0, 10.0], zoom_start=6)\n",
    "\n",
    "# Legg til geometriene fra shapefilen på kartet\n",
    "for _, row in gdf.iterrows():\n",
    "    folium.GeoJson(row.geometry).add_to(mymap)\n",
    "\n",
    "# Lagre kartet som en HTML-fil\n",
    "mymap.save(\"geomatikk_kart.html\")"
   ]
  },
  {
   "cell_type": "markdown",
   "metadata": {},
   "source": [
    "I dette eksempelet bruker vi `folium` til å lage et kart med geometriene fra et shapefile med innsjøer. Kartet er interaktivt, slik at du kan zoome inn og ut, samt klikke på geometriene for mer informasjon."
   ]
  }
 ],
 "metadata": {
  "kernelspec": {
   "display_name": "Python 3 (ipykernel)",
   "language": "python",
   "name": "python3"
  },
  "language_info": {
   "codemirror_mode": {
    "name": "ipython",
    "version": 3
   },
   "file_extension": ".py",
   "mimetype": "text/x-python",
   "name": "python",
   "nbconvert_exporter": "python",
   "pygments_lexer": "ipython3",
   "version": "3.11.8"
  },
  "widgets": {
   "application/vnd.jupyter.widget-state+json": {
    "state": {},
    "version_major": 2,
    "version_minor": 0
   }
  }
 },
 "nbformat": 4,
 "nbformat_minor": 4
}
